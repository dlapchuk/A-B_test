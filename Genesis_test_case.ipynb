{
 "cells": [
  {
   "cell_type": "markdown",
   "metadata": {},
   "source": [
    "# Loading and preprocessing data"
   ]
  },
  {
   "cell_type": "code",
   "execution_count": 1,
   "metadata": {},
   "outputs": [],
   "source": [
    "import pandas as pd\n",
    "import matplotlib.pyplot as plt\n",
    "import numpy as np\n",
    "from scipy.stats import ks_2samp\n",
    "import seaborn as sns\n",
    "\n",
    "import warnings\n",
    "warnings.filterwarnings('ignore')"
   ]
  },
  {
   "cell_type": "code",
   "execution_count": 2,
   "metadata": {},
   "outputs": [],
   "source": [
    "sales = pd.read_csv('sales.csv')\n",
    "visits = pd.read_csv('visits.csv')"
   ]
  },
  {
   "cell_type": "code",
   "execution_count": 3,
   "metadata": {},
   "outputs": [
    {
     "data": {
      "text/html": [
       "<div>\n",
       "<style scoped>\n",
       "    .dataframe tbody tr th:only-of-type {\n",
       "        vertical-align: middle;\n",
       "    }\n",
       "\n",
       "    .dataframe tbody tr th {\n",
       "        vertical-align: top;\n",
       "    }\n",
       "\n",
       "    .dataframe thead th {\n",
       "        text-align: right;\n",
       "    }\n",
       "</style>\n",
       "<table border=\"1\" class=\"dataframe\">\n",
       "  <thead>\n",
       "    <tr style=\"text-align: right;\">\n",
       "      <th></th>\n",
       "      <th>Unnamed: 0</th>\n",
       "      <th>uid</th>\n",
       "      <th>timestamp</th>\n",
       "      <th>source</th>\n",
       "      <th>browser</th>\n",
       "      <th>flag</th>\n",
       "      <th>price</th>\n",
       "    </tr>\n",
       "  </thead>\n",
       "  <tbody>\n",
       "    <tr>\n",
       "      <th>0</th>\n",
       "      <td>386479</td>\n",
       "      <td>50b9d220-c62d-4b85-8898-2043700db4ef</td>\n",
       "      <td>2019-01-05</td>\n",
       "      <td>criteo</td>\n",
       "      <td>internet_explorer</td>\n",
       "      <td>0</td>\n",
       "      <td>2277</td>\n",
       "    </tr>\n",
       "    <tr>\n",
       "      <th>1</th>\n",
       "      <td>193643</td>\n",
       "      <td>f215ff2d-26f9-425e-9337-b2417f389384</td>\n",
       "      <td>2019-01-05</td>\n",
       "      <td>jewio</td>\n",
       "      <td>google_chrome</td>\n",
       "      <td>1</td>\n",
       "      <td>3612</td>\n",
       "    </tr>\n",
       "    <tr>\n",
       "      <th>2</th>\n",
       "      <td>412809</td>\n",
       "      <td>164abdaf-5fd8-4230-9230-e1e5e105ca0a</td>\n",
       "      <td>2019-01-05</td>\n",
       "      <td>criteo</td>\n",
       "      <td>google_chrome</td>\n",
       "      <td>1</td>\n",
       "      <td>16315</td>\n",
       "    </tr>\n",
       "  </tbody>\n",
       "</table>\n",
       "</div>"
      ],
      "text/plain": [
       "   Unnamed: 0                                   uid   timestamp  source  \\\n",
       "0      386479  50b9d220-c62d-4b85-8898-2043700db4ef  2019-01-05  criteo   \n",
       "1      193643  f215ff2d-26f9-425e-9337-b2417f389384  2019-01-05   jewio   \n",
       "2      412809  164abdaf-5fd8-4230-9230-e1e5e105ca0a  2019-01-05  criteo   \n",
       "\n",
       "             browser  flag  price  \n",
       "0  internet_explorer     0   2277  \n",
       "1      google_chrome     1   3612  \n",
       "2      google_chrome     1  16315  "
      ]
     },
     "execution_count": 3,
     "metadata": {},
     "output_type": "execute_result"
    }
   ],
   "source": [
    "sales.head(3)"
   ]
  },
  {
   "cell_type": "code",
   "execution_count": 4,
   "metadata": {},
   "outputs": [
    {
     "data": {
      "text/html": [
       "<div>\n",
       "<style scoped>\n",
       "    .dataframe tbody tr th:only-of-type {\n",
       "        vertical-align: middle;\n",
       "    }\n",
       "\n",
       "    .dataframe tbody tr th {\n",
       "        vertical-align: top;\n",
       "    }\n",
       "\n",
       "    .dataframe thead th {\n",
       "        text-align: right;\n",
       "    }\n",
       "</style>\n",
       "<table border=\"1\" class=\"dataframe\">\n",
       "  <thead>\n",
       "    <tr style=\"text-align: right;\">\n",
       "      <th></th>\n",
       "      <th>Unnamed: 0</th>\n",
       "      <th>uid</th>\n",
       "      <th>timestamp</th>\n",
       "      <th>source</th>\n",
       "      <th>browser</th>\n",
       "      <th>flag</th>\n",
       "    </tr>\n",
       "  </thead>\n",
       "  <tbody>\n",
       "    <tr>\n",
       "      <th>0</th>\n",
       "      <td>0</td>\n",
       "      <td>f448a34a-67da-4f56-95c7-e9afe9bd54cf</td>\n",
       "      <td>2019-01-06</td>\n",
       "      <td>organic</td>\n",
       "      <td>opera_mini</td>\n",
       "      <td>0</td>\n",
       "    </tr>\n",
       "    <tr>\n",
       "      <th>1</th>\n",
       "      <td>1</td>\n",
       "      <td>c891f62f-ff1a-476d-a5a4-f2738c5fa991</td>\n",
       "      <td>2019-01-11</td>\n",
       "      <td>criteo</td>\n",
       "      <td>internet_explorer</td>\n",
       "      <td>1</td>\n",
       "    </tr>\n",
       "    <tr>\n",
       "      <th>2</th>\n",
       "      <td>2</td>\n",
       "      <td>36a58b94-bf4a-440c-bfc4-f82acb8824f3</td>\n",
       "      <td>2019-01-18</td>\n",
       "      <td>direct</td>\n",
       "      <td>edge</td>\n",
       "      <td>0</td>\n",
       "    </tr>\n",
       "  </tbody>\n",
       "</table>\n",
       "</div>"
      ],
      "text/plain": [
       "   Unnamed: 0                                   uid   timestamp   source  \\\n",
       "0           0  f448a34a-67da-4f56-95c7-e9afe9bd54cf  2019-01-06  organic   \n",
       "1           1  c891f62f-ff1a-476d-a5a4-f2738c5fa991  2019-01-11   criteo   \n",
       "2           2  36a58b94-bf4a-440c-bfc4-f82acb8824f3  2019-01-18   direct   \n",
       "\n",
       "             browser  flag  \n",
       "0         opera_mini     0  \n",
       "1  internet_explorer     1  \n",
       "2               edge     0  "
      ]
     },
     "execution_count": 4,
     "metadata": {},
     "output_type": "execute_result"
    }
   ],
   "source": [
    "visits.head(3)"
   ]
  },
  {
   "cell_type": "markdown",
   "metadata": {},
   "source": [
    "Join data to calculate conversion rate."
   ]
  },
  {
   "cell_type": "code",
   "execution_count": 5,
   "metadata": {},
   "outputs": [
    {
     "data": {
      "text/html": [
       "<div>\n",
       "<style scoped>\n",
       "    .dataframe tbody tr th:only-of-type {\n",
       "        vertical-align: middle;\n",
       "    }\n",
       "\n",
       "    .dataframe tbody tr th {\n",
       "        vertical-align: top;\n",
       "    }\n",
       "\n",
       "    .dataframe thead th {\n",
       "        text-align: right;\n",
       "    }\n",
       "</style>\n",
       "<table border=\"1\" class=\"dataframe\">\n",
       "  <thead>\n",
       "    <tr style=\"text-align: right;\">\n",
       "      <th></th>\n",
       "      <th>Unnamed: 0</th>\n",
       "      <th>uid</th>\n",
       "      <th>timestamp</th>\n",
       "      <th>source</th>\n",
       "      <th>browser</th>\n",
       "      <th>flag</th>\n",
       "      <th>price</th>\n",
       "    </tr>\n",
       "  </thead>\n",
       "  <tbody>\n",
       "    <tr>\n",
       "      <th>0</th>\n",
       "      <td>0</td>\n",
       "      <td>f448a34a-67da-4f56-95c7-e9afe9bd54cf</td>\n",
       "      <td>2019-01-06</td>\n",
       "      <td>organic</td>\n",
       "      <td>opera_mini</td>\n",
       "      <td>0</td>\n",
       "      <td>0.0</td>\n",
       "    </tr>\n",
       "    <tr>\n",
       "      <th>1</th>\n",
       "      <td>1</td>\n",
       "      <td>c891f62f-ff1a-476d-a5a4-f2738c5fa991</td>\n",
       "      <td>2019-01-11</td>\n",
       "      <td>criteo</td>\n",
       "      <td>internet_explorer</td>\n",
       "      <td>1</td>\n",
       "      <td>0.0</td>\n",
       "    </tr>\n",
       "    <tr>\n",
       "      <th>2</th>\n",
       "      <td>2</td>\n",
       "      <td>36a58b94-bf4a-440c-bfc4-f82acb8824f3</td>\n",
       "      <td>2019-01-18</td>\n",
       "      <td>direct</td>\n",
       "      <td>edge</td>\n",
       "      <td>0</td>\n",
       "      <td>12480.0</td>\n",
       "    </tr>\n",
       "  </tbody>\n",
       "</table>\n",
       "</div>"
      ],
      "text/plain": [
       "   Unnamed: 0                                   uid   timestamp   source  \\\n",
       "0           0  f448a34a-67da-4f56-95c7-e9afe9bd54cf  2019-01-06  organic   \n",
       "1           1  c891f62f-ff1a-476d-a5a4-f2738c5fa991  2019-01-11   criteo   \n",
       "2           2  36a58b94-bf4a-440c-bfc4-f82acb8824f3  2019-01-18   direct   \n",
       "\n",
       "             browser  flag    price  \n",
       "0         opera_mini     0      0.0  \n",
       "1  internet_explorer     1      0.0  \n",
       "2               edge     0  12480.0  "
      ]
     },
     "execution_count": 5,
     "metadata": {},
     "output_type": "execute_result"
    }
   ],
   "source": [
    "all_data = visits.merge(sales[['uid','timestamp', 'price']], how='left', on=['uid', 'timestamp'])\n",
    "all_data.price = np.where(np.isnan(all_data.price),\n",
    "                        0, all_data.price)\n",
    "all_data.head(3)"
   ]
  },
  {
   "cell_type": "markdown",
   "metadata": {},
   "source": [
    "Split all_data to two datasets by flag."
   ]
  },
  {
   "cell_type": "code",
   "execution_count": 6,
   "metadata": {},
   "outputs": [],
   "source": [
    "a_data = all_data[(all_data.flag==0)]\n",
    "b_data = all_data[(all_data.flag==1)]"
   ]
  },
  {
   "cell_type": "markdown",
   "metadata": {},
   "source": [
    "Split sales to two datasets by flag."
   ]
  },
  {
   "cell_type": "code",
   "execution_count": 7,
   "metadata": {},
   "outputs": [],
   "source": [
    "a_sales = sales[(sales.flag==0)]\n",
    "b_sales = sales[(sales.flag==1)]"
   ]
  },
  {
   "cell_type": "markdown",
   "metadata": {},
   "source": [
    "# Data investigation"
   ]
  },
  {
   "cell_type": "markdown",
   "metadata": {},
   "source": [
    "Draw boxplots to to visually compare two distributions."
   ]
  },
  {
   "cell_type": "code",
   "execution_count": 8,
   "metadata": {},
   "outputs": [
    {
     "data": {
      "image/png": "[encoded data removed]",
      "text/plain": [
       "<Figure size 432x288 with 1 Axes>"
      ]
     },
     "metadata": {
      "needs_background": "light"
     },
     "output_type": "display_data"
    }
   ],
   "source": [
    "ax = sns.boxplot(x=\"flag\", y=\"price\", data=sales)"
   ]
  },
  {
   "cell_type": "markdown",
   "metadata": {},
   "source": [
    "As we see, price distributions are quite similar. There are no outliers."
   ]
  },
  {
   "cell_type": "code",
   "execution_count": 9,
   "metadata": {},
   "outputs": [],
   "source": [
    "a_visits = a_data.shape[0]\n",
    "b_visits = b_data.shape[0]\n",
    "a_purchases = a_data[(a_data.price>0)].shape[0]\n",
    "b_purchases = b_data[(b_data.price>0)].shape[0]"
   ]
  },
  {
   "cell_type": "code",
   "execution_count": 10,
   "metadata": {},
   "outputs": [
    {
     "name": "stdout",
     "output_type": "stream",
     "text": [
      "Default button visits: 485003\n",
      "New button visits: 494383\n"
     ]
    }
   ],
   "source": [
    "print('Default button visits: ' + str(a_visits))\n",
    "print('New button visits: ' + str(b_visits))"
   ]
  },
  {
   "cell_type": "code",
   "execution_count": 11,
   "metadata": {},
   "outputs": [],
   "source": [
    "a_visitors = a_data.uid.nunique()\n",
    "b_visitors = b_data.uid.nunique()"
   ]
  },
  {
   "cell_type": "code",
   "execution_count": 12,
   "metadata": {},
   "outputs": [
    {
     "name": "stdout",
     "output_type": "stream",
     "text": [
      "Default button visitors: 485003\n",
      "New button visitors: 494383\n"
     ]
    }
   ],
   "source": [
    "print('Default button visitors: ' + str(a_visitors))\n",
    "print('New button visitors: ' + str(b_visitors))"
   ]
  },
  {
   "cell_type": "markdown",
   "metadata": {},
   "source": [
    "There were more unique visitors and number of visits for the new botton.\n",
    "Let's calculate ARPU by date."
   ]
  },
  {
   "cell_type": "code",
   "execution_count": 13,
   "metadata": {},
   "outputs": [
    {
     "data": {
      "text/html": [
       "<div>\n",
       "<style scoped>\n",
       "    .dataframe tbody tr th:only-of-type {\n",
       "        vertical-align: middle;\n",
       "    }\n",
       "\n",
       "    .dataframe tbody tr th {\n",
       "        vertical-align: top;\n",
       "    }\n",
       "\n",
       "    .dataframe thead th {\n",
       "        text-align: right;\n",
       "    }\n",
       "</style>\n",
       "<table border=\"1\" class=\"dataframe\">\n",
       "  <thead>\n",
       "    <tr style=\"text-align: right;\">\n",
       "      <th></th>\n",
       "      <th>price</th>\n",
       "      <th>uid</th>\n",
       "      <th>ARPU</th>\n",
       "    </tr>\n",
       "    <tr>\n",
       "      <th>timestamp</th>\n",
       "      <th></th>\n",
       "      <th></th>\n",
       "      <th></th>\n",
       "    </tr>\n",
       "  </thead>\n",
       "  <tbody>\n",
       "    <tr>\n",
       "      <th>2019-01-01</th>\n",
       "      <td>97391986</td>\n",
       "      <td>9298</td>\n",
       "      <td>10474.509142</td>\n",
       "    </tr>\n",
       "    <tr>\n",
       "      <th>2019-01-02</th>\n",
       "      <td>97462257</td>\n",
       "      <td>9245</td>\n",
       "      <td>10542.158680</td>\n",
       "    </tr>\n",
       "    <tr>\n",
       "      <th>2019-01-03</th>\n",
       "      <td>98192654</td>\n",
       "      <td>9343</td>\n",
       "      <td>10509.756395</td>\n",
       "    </tr>\n",
       "  </tbody>\n",
       "</table>\n",
       "</div>"
      ],
      "text/plain": [
       "               price   uid          ARPU\n",
       "timestamp                               \n",
       "2019-01-01  97391986  9298  10474.509142\n",
       "2019-01-02  97462257  9245  10542.158680\n",
       "2019-01-03  98192654  9343  10509.756395"
      ]
     },
     "execution_count": 13,
     "metadata": {},
     "output_type": "execute_result"
    }
   ],
   "source": [
    "a_ARPU = pd.DataFrame(a_sales.groupby(by='timestamp').price.sum()).merge(\n",
    "    pd.DataFrame(a_sales.groupby(by='timestamp').uid.nunique()), \n",
    "    on='timestamp')\n",
    "a_ARPU['ARPU'] = a_ARPU['price']/a_ARPU['uid']\n",
    "a_ARPU.head(3)"
   ]
  },
  {
   "cell_type": "code",
   "execution_count": 14,
   "metadata": {},
   "outputs": [
    {
     "data": {
      "text/html": [
       "<div>\n",
       "<style scoped>\n",
       "    .dataframe tbody tr th:only-of-type {\n",
       "        vertical-align: middle;\n",
       "    }\n",
       "\n",
       "    .dataframe tbody tr th {\n",
       "        vertical-align: top;\n",
       "    }\n",
       "\n",
       "    .dataframe thead th {\n",
       "        text-align: right;\n",
       "    }\n",
       "</style>\n",
       "<table border=\"1\" class=\"dataframe\">\n",
       "  <thead>\n",
       "    <tr style=\"text-align: right;\">\n",
       "      <th></th>\n",
       "      <th>price</th>\n",
       "      <th>uid</th>\n",
       "      <th>ARPU</th>\n",
       "    </tr>\n",
       "    <tr>\n",
       "      <th>timestamp</th>\n",
       "      <th></th>\n",
       "      <th></th>\n",
       "      <th></th>\n",
       "    </tr>\n",
       "  </thead>\n",
       "  <tbody>\n",
       "    <tr>\n",
       "      <th>2019-01-01</th>\n",
       "      <td>97829661</td>\n",
       "      <td>9287</td>\n",
       "      <td>10534.043394</td>\n",
       "    </tr>\n",
       "    <tr>\n",
       "      <th>2019-01-02</th>\n",
       "      <td>100018750</td>\n",
       "      <td>9431</td>\n",
       "      <td>10605.317570</td>\n",
       "    </tr>\n",
       "    <tr>\n",
       "      <th>2019-01-03</th>\n",
       "      <td>101388465</td>\n",
       "      <td>9643</td>\n",
       "      <td>10514.203567</td>\n",
       "    </tr>\n",
       "  </tbody>\n",
       "</table>\n",
       "</div>"
      ],
      "text/plain": [
       "                price   uid          ARPU\n",
       "timestamp                                \n",
       "2019-01-01   97829661  9287  10534.043394\n",
       "2019-01-02  100018750  9431  10605.317570\n",
       "2019-01-03  101388465  9643  10514.203567"
      ]
     },
     "execution_count": 14,
     "metadata": {},
     "output_type": "execute_result"
    }
   ],
   "source": [
    "b_ARPU = pd.DataFrame(b_sales.groupby(by='timestamp').price.sum()).merge(\n",
    "    pd.DataFrame(b_sales.groupby(by='timestamp').uid.nunique()), \n",
    "    on='timestamp')\n",
    "b_ARPU['ARPU'] = b_ARPU['price']/b_ARPU['uid']\n",
    "b_ARPU.head(3)"
   ]
  },
  {
   "cell_type": "markdown",
   "metadata": {},
   "source": [
    "Draw sales per visitor change by date."
   ]
  },
  {
   "cell_type": "code",
   "execution_count": 15,
   "metadata": {
    "scrolled": true
   },
   "outputs": [
    {
     "data": {
      "image/png": "[encoded data removed]",
      "text/plain": [
       "<Figure size 432x288 with 1 Axes>"
      ]
     },
     "metadata": {
      "needs_background": "light"
     },
     "output_type": "display_data"
    }
   ],
   "source": [
    "fig, ax = plt.subplots()\n",
    "ax.plot(a_ARPU['ARPU'], label='Default')\n",
    "ax.plot(b_ARPU['ARPU'], label='New')\n",
    "plt.xticks(rotation=90)\n",
    "ax.axhline(y=0, color='k')\n",
    "ax.legend()\n",
    "plt.show()"
   ]
  },
  {
   "cell_type": "markdown",
   "metadata": {},
   "source": [
    "Calculate if sales per visitors are simular for different browsers or new button have different impact on them."
   ]
  },
  {
   "cell_type": "code",
   "execution_count": 16,
   "metadata": {},
   "outputs": [
    {
     "data": {
      "text/plain": [
       "browser            flag\n",
       "edge               0       49.98\n",
       "                   1       50.02\n",
       "google_chrome      0       49.90\n",
       "                   1       50.10\n",
       "internet_explorer  0       49.99\n",
       "                   1       50.01\n",
       "mozilla_firefox    0       49.97\n",
       "                   1       50.03\n",
       "opera              0       50.00\n",
       "                   1       50.00\n",
       "opera_mini         0       49.96\n",
       "                   1       50.04\n",
       "safari             0       49.86\n",
       "                   1       50.14\n",
       "yandex_browser     0       50.07\n",
       "                   1       49.93\n",
       "Name: % price per browser, dtype: float64"
      ]
     },
     "execution_count": 16,
     "metadata": {},
     "output_type": "execute_result"
    }
   ],
   "source": [
    "sales_per_browser = pd.DataFrame(sales.groupby(by=['browser', 'flag']).price.sum()).merge(\n",
    "    pd.DataFrame(sales.groupby(by=['browser', 'flag']).uid.nunique()), \n",
    "    on=['browser', 'flag'])\n",
    "sales_per_browser['% price per browser'] = sales_per_browser.price /sales_per_browser.uid\n",
    "sales_per_browser\n",
    "sales_per_browser.groupby(level=0).transform(lambda x: round(x/x.sum()*100, 2))['% price per browser']"
   ]
  },
  {
   "cell_type": "markdown",
   "metadata": {},
   "source": [
    "As wee see button have quite simular effect for all browsers."
   ]
  },
  {
   "cell_type": "markdown",
   "metadata": {},
   "source": [
    "# Hypothesis testing"
   ]
  },
  {
   "cell_type": "markdown",
   "metadata": {},
   "source": [
    "First let's select significance level for our test.\n",
    "The significance level (alpha or α) is the probability of rejecting the null hypothesis when it is true.\n",
    "I will use alpha = 0.05."
   ]
  },
  {
   "cell_type": "markdown",
   "metadata": {},
   "source": [
    "## Hypothesis 1"
   ]
  },
  {
   "cell_type": "markdown",
   "metadata": {},
   "source": [
    "Null hypothesis: buttons have the same purchase conversion rate (% of visits that ended with purchase).\n",
    "\n",
    "Let's visualize the difference between conversion rate for default and new button."
   ]
  },
  {
   "cell_type": "code",
   "execution_count": 17,
   "metadata": {},
   "outputs": [
    {
     "data": {
      "image/png": "[encoded data removed]",
      "text/plain": [
       "<Figure size 576x288 with 1 Axes>"
      ]
     },
     "metadata": {
      "needs_background": "light"
     },
     "output_type": "display_data"
    }
   ],
   "source": [
    "fig, ax = plt.subplots(figsize=(8,4))\n",
    "\n",
    "x = [0,1]\n",
    "y = [a_purchases/a_visits, b_purchases/b_visits]\n",
    "ax.bar(x, y, align='center', width=.8)\n",
    "ax.set_xticks(x)\n",
    "ax.set_xticklabels(['Default button', 'New button'])\n",
    "\n",
    "for xx, yy in zip(x,y):\n",
    "    ax.text(xx, yy*.7, '%0.2f%%'%(100*yy),\n",
    "            ha='center', va='bottom', \n",
    "            fontdict={'size':18,'weight':'bold','color':(0.9,.9,.9)})"
   ]
  },
  {
   "cell_type": "code",
   "execution_count": 18,
   "metadata": {},
   "outputs": [
    {
     "name": "stdout",
     "output_type": "stream",
     "text": [
      " z-stat = 0.3980598028710438 \n",
      " p-value = 0.690586103884811\n"
     ]
    }
   ],
   "source": [
    "# Check that the difference in Conversion Rates is statistically significant for Alpha=0.05\n",
    "\n",
    "from statsmodels.stats.proportion import proportions_ztest\n",
    "count = np.array([a_purchases,b_purchases])\n",
    "nobs = np.array([a_visits, b_visits])\n",
    "z,p = proportions_ztest(count, nobs, value=0, alternative='two-sided')\n",
    "print(' z-stat = {z} \\n p-value = {p}'.format(z=z,p=p))"
   ]
  },
  {
   "cell_type": "markdown",
   "metadata": {},
   "source": [
    "p-value is more than 0.05. Therefore, conversion rate changed insignificantly."
   ]
  },
  {
   "cell_type": "markdown",
   "metadata": {},
   "source": [
    "## Hypothesis 2"
   ]
  },
  {
   "cell_type": "markdown",
   "metadata": {},
   "source": [
    "Null hypothesis: The difference between sales for each botton is insignificant."
   ]
  },
  {
   "cell_type": "code",
   "execution_count": 19,
   "metadata": {},
   "outputs": [
    {
     "data": {
      "text/html": [
       "<div>\n",
       "<style scoped>\n",
       "    .dataframe tbody tr th:only-of-type {\n",
       "        vertical-align: middle;\n",
       "    }\n",
       "\n",
       "    .dataframe tbody tr th {\n",
       "        vertical-align: top;\n",
       "    }\n",
       "\n",
       "    .dataframe thead th {\n",
       "        text-align: right;\n",
       "    }\n",
       "</style>\n",
       "<table border=\"1\" class=\"dataframe\">\n",
       "  <thead>\n",
       "    <tr style=\"text-align: right;\">\n",
       "      <th></th>\n",
       "      <th>price_default</th>\n",
       "      <th>price_new</th>\n",
       "    </tr>\n",
       "  </thead>\n",
       "  <tbody>\n",
       "    <tr>\n",
       "      <th>count</th>\n",
       "      <td>176647.000000</td>\n",
       "      <td>179872.000000</td>\n",
       "    </tr>\n",
       "    <tr>\n",
       "      <th>mean</th>\n",
       "      <td>10490.446580</td>\n",
       "      <td>10504.782834</td>\n",
       "    </tr>\n",
       "    <tr>\n",
       "      <th>std</th>\n",
       "      <td>5487.484847</td>\n",
       "      <td>5485.158566</td>\n",
       "    </tr>\n",
       "    <tr>\n",
       "      <th>min</th>\n",
       "      <td>1000.000000</td>\n",
       "      <td>1000.000000</td>\n",
       "    </tr>\n",
       "    <tr>\n",
       "      <th>25%</th>\n",
       "      <td>5725.000000</td>\n",
       "      <td>5755.000000</td>\n",
       "    </tr>\n",
       "    <tr>\n",
       "      <th>50%</th>\n",
       "      <td>10490.000000</td>\n",
       "      <td>10494.000000</td>\n",
       "    </tr>\n",
       "    <tr>\n",
       "      <th>75%</th>\n",
       "      <td>15243.000000</td>\n",
       "      <td>15249.000000</td>\n",
       "    </tr>\n",
       "    <tr>\n",
       "      <th>max</th>\n",
       "      <td>19999.000000</td>\n",
       "      <td>19999.000000</td>\n",
       "    </tr>\n",
       "  </tbody>\n",
       "</table>\n",
       "</div>"
      ],
      "text/plain": [
       "       price_default      price_new\n",
       "count  176647.000000  179872.000000\n",
       "mean    10490.446580   10504.782834\n",
       "std      5487.484847    5485.158566\n",
       "min      1000.000000    1000.000000\n",
       "25%      5725.000000    5755.000000\n",
       "50%     10490.000000   10494.000000\n",
       "75%     15243.000000   15249.000000\n",
       "max     19999.000000   19999.000000"
      ]
     },
     "execution_count": 19,
     "metadata": {},
     "output_type": "execute_result"
    }
   ],
   "source": [
    "pd.DataFrame(a_sales.price.describe()).join(pd.DataFrame(b_sales.price.describe()), \n",
    "     lsuffix='_default', rsuffix='_new')"
   ]
  },
  {
   "cell_type": "markdown",
   "metadata": {},
   "source": [
    "Let's look at price distribution chart to compare."
   ]
  },
  {
   "cell_type": "code",
   "execution_count": 20,
   "metadata": {},
   "outputs": [
    {
     "data": {
      "text/plain": [
       "<matplotlib.axes._subplots.AxesSubplot at 0x12024d33c88>"
      ]
     },
     "execution_count": 20,
     "metadata": {},
     "output_type": "execute_result"
    },
    {
     "data": {
      "image/png": "[encoded data removed]",
      "text/plain": [
       "<Figure size 432x288 with 1 Axes>"
      ]
     },
     "metadata": {
      "needs_background": "light"
     },
     "output_type": "display_data"
    }
   ],
   "source": [
    "sns.distplot(tuple(a_sales.price), color=\"red\", label=\"Default\", hist=False)\n",
    "sns.distplot(tuple(b_sales.price), color=\"skyblue\", label=\"New\", hist=False)"
   ]
  },
  {
   "cell_type": "markdown",
   "metadata": {},
   "source": [
    "Distributions aren't normally distributed. We need to use non-parametric test. I will use Kolmogorov Smirnov."
   ]
  },
  {
   "cell_type": "code",
   "execution_count": 21,
   "metadata": {},
   "outputs": [
    {
     "name": "stdout",
     "output_type": "stream",
     "text": [
      "statisctics = 0.002646708383142543 \n",
      "p-value = 0.5597548318515957\n"
     ]
    }
   ],
   "source": [
    "s, p = ks_2samp(a_sales.price, b_sales.price)\n",
    "print('statisctics = {s} \\np-value = {p}'.format(s=s,p=p))"
   ]
  },
  {
   "cell_type": "markdown",
   "metadata": {},
   "source": [
    "P-value is more then our significant value so null-hypothesis can't be rejected. Sales difference is insignificant."
   ]
  },
  {
   "cell_type": "markdown",
   "metadata": {},
   "source": [
    "## Hypothesis 3"
   ]
  },
  {
   "cell_type": "markdown",
   "metadata": {},
   "source": [
    "Null hypothesis: ARPU is the same for both bottons."
   ]
  },
  {
   "cell_type": "code",
   "execution_count": 22,
   "metadata": {},
   "outputs": [],
   "source": [
    "a_data_cust = pd.DataFrame(a_data.groupby(by='uid').price.sum())\n",
    "b_data_cust = pd.DataFrame(b_data.groupby(by='uid').price.sum())"
   ]
  },
  {
   "cell_type": "markdown",
   "metadata": {},
   "source": [
    "Let's draw ARPU distribution to compare."
   ]
  },
  {
   "cell_type": "code",
   "execution_count": 23,
   "metadata": {},
   "outputs": [
    {
     "data": {
      "text/plain": [
       "<matplotlib.axes._subplots.AxesSubplot at 0x120299dd2e8>"
      ]
     },
     "execution_count": 23,
     "metadata": {},
     "output_type": "execute_result"
    },
    {
     "data": {
      "image/png": "[encoded data removed]",
      "text/plain": [
       "<Figure size 432x288 with 1 Axes>"
      ]
     },
     "metadata": {
      "needs_background": "light"
     },
     "output_type": "display_data"
    }
   ],
   "source": [
    "sns.distplot(a_data_cust, color=\"red\", label=\"Default\", hist=False)\n",
    "sns.distplot(b_data_cust, color=\"skyblue\", label=\"New\", hist=False)"
   ]
  },
  {
   "cell_type": "markdown",
   "metadata": {},
   "source": [
    "Data for both bottons isn't normally distributed. \n",
    "Therefore I will use Kolmogorov Smirnov test again."
   ]
  },
  {
   "cell_type": "code",
   "execution_count": 24,
   "metadata": {},
   "outputs": [
    {
     "name": "stdout",
     "output_type": "stream",
     "text": [
      "statisctics = 0.21052631578947373 \n",
      "p-value = 0.741505714202556\n"
     ]
    }
   ],
   "source": [
    "s, p = ks_2samp(a_ARPU['ARPU'], b_ARPU['ARPU'])\n",
    "print('statisctics = {s} \\np-value = {p}'.format(s=s,p=p))"
   ]
  },
  {
   "cell_type": "markdown",
   "metadata": {},
   "source": [
    "P-value is more then our significant value so null-hypothesis can't be rejected. Sales difference is insignificant."
   ]
  },
  {
   "cell_type": "markdown",
   "metadata": {},
   "source": [
    "# Conclusion"
   ]
  },
  {
   "cell_type": "markdown",
   "metadata": {},
   "source": [
    "We tested three hypothesis:\n",
    "* Equality of Conversion rates\n",
    "* Equality of sales\n",
    "* Equality of ARPU\n",
    "\n",
    "All three hypotheses can not be rejected.\n",
    "So we can conclude that the difference between the buttons is insignificant.\n",
    "\n",
    "There is no reason to change the design of the button."
   ]
  },
  {
   "cell_type": "code",
   "execution_count": null,
   "metadata": {},
   "outputs": [],
   "source": []
  }
 ],
 "metadata": {
  "kernelspec": {
   "display_name": "Python 3",
   "language": "python",
   "name": "python3"
  },
  "language_info": {
   "codemirror_mode": {
    "name": "ipython",
    "version": 3
   },
   "file_extension": ".py",
   "mimetype": "text/x-python",
   "name": "python",
   "nbconvert_exporter": "python",
   "pygments_lexer": "ipython3",
   "version": "3.7.0"
  }
 },
 "nbformat": 4,
 "nbformat_minor": 2
}
